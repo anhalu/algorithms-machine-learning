{
 "cells": [
  {
   "attachments": {},
   "cell_type": "markdown",
   "metadata": {},
   "source": [
    "#### algorithms for knn \n",
    "1. Store all training data \n",
    "2. Repeat steps 3, 4 and 5 for each test example \n",
    "3. Find the k number or training examples nearest to the current examples \n",
    "4. Y_pred for current test exmaples = most common class among k nearest training instances \n",
    "5. Go to step 2 "
   ]
  },
  {
   "cell_type": "code",
   "execution_count": 171,
   "metadata": {},
   "outputs": [
    {
     "name": "stdout",
     "output_type": "stream",
     "text": [
      "(105, 4)\n",
      "(45, 4)\n"
     ]
    }
   ],
   "source": [
    "import numpy as np \n",
    "import matplotlib.pyplot as plt \n",
    "from sklearn import datasets, neighbors \n",
    "from sklearn.model_selection import train_test_split \n",
    "from sklearn.metrics import accuracy_score\n",
    "from scipy.stats import mode\n",
    "\n",
    "iris = datasets.load_iris() \n",
    "X = iris.data \n",
    "Y = iris.target \n",
    "X_train, X_test, Y_train, Y_test = train_test_split(X, Y, test_size=0.3) \n",
    "print(X_train.shape) \n",
    "print(X_test.shape) "
   ]
  },
  {
   "cell_type": "code",
   "execution_count": 172,
   "metadata": {},
   "outputs": [
    {
     "name": "stdout",
     "output_type": "stream",
     "text": [
      "accuracy score : 93.33 \n"
     ]
    }
   ],
   "source": [
    "class K_nearest_neighbors() : \n",
    "    \n",
    "    def __init__( self, K) :\n",
    "        self.K = K\n",
    "    \n",
    "    def fit(self, X_train, Y_train) : \n",
    "        self.X_train = X_train \n",
    "        self.Y_train = Y_train \n",
    "        self.m, self.n = self.X_train.shape \n",
    "        \n",
    "    def predict(self, X_test) : \n",
    "        self.X_test = X_test \n",
    "        self.m_test, self.n_test = X_test.shape \n",
    "        \n",
    "        y_pred = np.zeros(self.m_test) \n",
    "        \n",
    "        for i in range(self.m_test) : \n",
    "            X = self.X_test[i] \n",
    "            \n",
    "            neighbors = np.zeros(self.K)\n",
    "            neighbors = self.find_neighbors(X) \n",
    "                    \n",
    "            y_pred[i] = int(self.most(neighbors))\n",
    "            \n",
    "        \n",
    "        return y_pred\n",
    "    \n",
    "    def most(self, neighbors) :\n",
    "        unique, counts = np.unique(neighbors, return_counts= True) \n",
    "        return unique[np.argmax(counts)]\n",
    "    \n",
    "    def find_neighbors(self, X) : \n",
    "        norm_distances = np.zeros(self.m) \n",
    "        \n",
    "        for i in range(self.m) : \n",
    "            d = self.norm2(X, self.X_train[i]) \n",
    "            norm_distances[i] = d \n",
    "            \n",
    "        inds = norm_distances.argsort() \n",
    "        \n",
    "        y_train_sorted = self.Y_train[inds] \n",
    "        \n",
    "        return y_train_sorted[ : self.K] \n",
    "        \n",
    "\n",
    "    def norm2(slef, x, x_train) : \n",
    "        return np.sqrt( np.sum( np.square( x - x_train ) ) )\n",
    "    \n",
    "\n",
    "model = K_nearest_neighbors(K = 20) \n",
    "model.fit(X_train,Y_train) \n",
    "y_pred = model.predict(X_test)\n",
    "\n",
    "print('accuracy score : {:.2f} '.format(100*accuracy_score(Y_test, y_pred))) "
   ]
  },
  {
   "attachments": {},
   "cell_type": "markdown",
   "metadata": {},
   "source": [
    "#### set weight for k neighbors \n",
    "1. weights = 'uniform' : moi diem deu co su quan trong nhu nhau \n",
    "2. weights = 'distance' : diem cang gan thi cang quan trong || lay nghich dao khoang cach (k/c = 0 thi lay luon label do)\n",
    "3. weights = myweights : co the tuy bien danh trong so theo ham cai rieng \n",
    "\n",
    "\n",
    "#### co che major voting : label nao xuat hien nhieu nhat thi label test la label do \n"
   ]
  },
  {
   "cell_type": "code",
   "execution_count": 173,
   "metadata": {},
   "outputs": [
    {
     "name": "stdout",
     "output_type": "stream",
     "text": [
      "Accuracy score : 95.56\n"
     ]
    }
   ],
   "source": [
    "from sklearn.neighbors import KNeighborsClassifier \n",
    "\n",
    "model1 = KNeighborsClassifier(n_neighbors = 20, p = 2, weights='distance')  \n",
    "model1.fit(X_train, Y_train) \n",
    "y_pred = model1.predict(X_test) \n",
    "\n",
    "print(\"Accuracy score : {:.2f}\".format(100*accuracy_score(Y_test, y_pred))) "
   ]
  }
 ],
 "metadata": {
  "kernelspec": {
   "display_name": "base",
   "language": "python",
   "name": "python3"
  },
  "language_info": {
   "codemirror_mode": {
    "name": "ipython",
    "version": 3
   },
   "file_extension": ".py",
   "mimetype": "text/x-python",
   "name": "python",
   "nbconvert_exporter": "python",
   "pygments_lexer": "ipython3",
   "version": "3.9.13"
  },
  "orig_nbformat": 4
 },
 "nbformat": 4,
 "nbformat_minor": 2
}
